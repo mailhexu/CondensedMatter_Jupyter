{
 "cells": [
  {
   "cell_type": "markdown",
   "metadata": {},
   "source": [
    "# Hubbard model\n",
    "In this example, we look into another kind of insulator, the Mott-Hubbard insulator, again in the 1d mono-atomic chain. In which the  electrons are localized due to the electron-electron Coulomb interaction. We consider the Hubbard model:\n",
    "$$H_{elec}=\\sum_{ij}t_{ij} c^{\\dagger}_i c_j + c.c. + \\frac{1}{2}\\sum_i U n_{i\\uparrow} n_{i\\downarrow} $$."
   ]
  },
  {
   "cell_type": "code",
   "execution_count": 1,
   "metadata": {},
   "outputs": [],
   "source": [
    "%matplotlib inline\n",
    "import numpy as np\n",
    "from  minimulti.electron.Hamiltonian import etb_model, atoms_model\n",
    "from minimulti.electron.basis2 import BasisSet, gen_basis_set, atoms_to_basis\n",
    "from ase.atoms import Atoms\n",
    "import matplotlib.pyplot as plt\n",
    "\n",
    "\n",
    "def run_1d_chain_Hubbard(t=1, U=9.9, spinat=[1,-1], nel=2, v=0.0):\n",
    "    # generate structure.\n",
    "    atoms=Atoms(symbols='H', positions=[(0,0,0)], cell=[1,1,1])\n",
    "    # generate basis set\n",
    "    bset= atoms_to_basis(atoms, basis_dict={'H': ('s',)}, nspin=2)\n",
    "    # generate model\n",
    "    mymodel=atoms_model(atoms=atoms, basis_set=bset, nspin=2)\n",
    "\n",
    "    # onsite energy (tune v to make electron localized on one site)\n",
    "    mymodel.set_onsite(v,0)\n",
    "    mymodel.set_onsite(v,1)\n",
    "\n",
    "    # 1D hopping along z. Format: t, i, j, R.\n",
    "    # spin up\n",
    "    mymodel.set_hop(t, 0,0, [0,0,1])\n",
    "    # spin down\n",
    "    mymodel.set_hop(t, 1,1, [0,0,1])\n",
    "\n",
    "    mymodel.set(nel=nel, mixing=0.5, tol_energy=1e-8, tol_rho=1e-8, sigma=0.05)\n",
    "    mymodel.set_initial_spin(spinat)\n",
    "    mymodel.set_Hubbard_U(Utype='Kanamori', Hubbard_dict={'H':{'L':0, 'U':U, 'J':0}})\n",
    "\n",
    "    # K mesh.\n",
    "    mymodel.set_kmesh([1,1,30])\n",
    "\n",
    "    # Scf solve\n",
    "    mymodel.scf_solve(print_iter_info=False)\n",
    "    efermi=mymodel.get_fermi_level()\n",
    "\n",
    "    kpt_x=np.arange(0, 1.01,0.01)\n",
    "    kpts=[np.array([0,0,1]) * x for x in kpt_x]\n",
    "    evalues, evecs=mymodel.solve_all(k_list=kpts)\n",
    "\n",
    "    for i in range(mymodel._norb):\n",
    "        plt.plot(kpt_x, evalues[i,:])\n",
    "    plt.xlabel('k-point')\n",
    "    plt.ylabel('Energy')\n",
    "    plt.axhline(efermi, linestyle='--', color='gray')"
   ]
  },
  {
   "cell_type": "markdown",
   "metadata": {},
   "source": [
    "In this system, each site has one orbital and thus can have two electrons. The electrons should be able to hop to the neighboring site. However, if there is Coulomb interaction between electrons on the same site, the electrons would need extra energy to be at the same site. If this energy is larger than the kinetic energy of the electron, the electrons will be localized. We can tune the U value below to see the change between metal and insulating state."
   ]
  },
  {
   "cell_type": "code",
   "execution_count": 2,
   "metadata": {},
   "outputs": [
    {
     "data": {
      "application/vnd.jupyter.widget-view+json": {
       "model_id": "b41e6ced8c884d819a47f0704c983f1b",
       "version_major": 2,
       "version_minor": 0
      },
      "text/plain": [
       "interactive(children=(FloatSlider(value=8.0, description='U', max=8.0, step=1.0), Output()), _dom_classes=('wi…"
      ]
     },
     "metadata": {},
     "output_type": "display_data"
    }
   ],
   "source": [
    "#run_1d_chain_Hubbard(t=1, U=5.300, spinat=[1.0], nel=1.0, v=0.0)\n",
    "from ipywidgets import FloatSlider, interact, fixed\n",
    "interact(run_1d_chain_Hubbard, t=fixed(1), U=(0.0, 8.0, 1.0), spinat=fixed([1.0]), nel=fixed(1.0), v=fixed(0.0));"
   ]
  },
  {
   "cell_type": "code",
   "execution_count": null,
   "metadata": {},
   "outputs": [],
   "source": []
  }
 ],
 "metadata": {
  "kernelspec": {
   "display_name": "Python 3",
   "language": "python",
   "name": "python3"
  },
  "language_info": {
   "codemirror_mode": {
    "name": "ipython",
    "version": 3
   },
   "file_extension": ".py",
   "mimetype": "text/x-python",
   "name": "python",
   "nbconvert_exporter": "python",
   "pygments_lexer": "ipython3",
   "version": "3.7.5"
  }
 },
 "nbformat": 4,
 "nbformat_minor": 2
}
